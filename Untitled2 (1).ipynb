{
  "nbformat": 4,
  "nbformat_minor": 0,
  "metadata": {
    "colab": {
      "name": "Untitled2.ipynb",
      "provenance": [],
      "collapsed_sections": []
    },
    "kernelspec": {
      "name": "python3",
      "display_name": "Python 3"
    }
  },
  "cells": [
    {
      "cell_type": "code",
      "metadata": {
        "id": "A0C5j4oi0rZ1",
        "outputId": "3775ef1e-0642-44d1-b679-8ba8a27fa0b6",
        "colab": {
          "base_uri": "https://localhost:8080/",
          "height": 35
        }
      },
      "source": [
        "import pandas as pd\n",
        "import numpy as np\n",
        "import matplotlib.pyplot as plt\n",
        "import sklearn\n",
        "import warnings\n",
        "warnings.filterwarnings('ignore')\n",
        "import seaborn as sns\n",
        "\n",
        "%pylab inline"
      ],
      "execution_count": null,
      "outputs": [
        {
          "output_type": "stream",
          "text": [
            "Populating the interactive namespace from numpy and matplotlib\n"
          ],
          "name": "stdout"
        }
      ]
    },
    {
      "cell_type": "code",
      "metadata": {
        "id": "NYHYgdXi06OR"
      },
      "source": [
        "from sklearn.linear_model import LinearRegression\n",
        "from sklearn.model_selection import train_test_split\n",
        "from sklearn.preprocessing import StandardScaler, OneHotEncoder\n",
        "from sklearn.pipeline import Pipeline\n",
        "from sklearn.compose import ColumnTransformer"
      ],
      "execution_count": null,
      "outputs": []
    },
    {
      "cell_type": "code",
      "metadata": {
        "id": "cBcakThq1DlZ"
      },
      "source": [
        "from sklearn.metrics import mean_squared_error\n",
        "from sklearn.tree import DecisionTreeClassifier\n",
        "from sklearn.ensemble import RandomForestClassifier\n",
        "from sklearn.metrics import plot_roc_curve, plot_precision_recall_curve\n",
        "\n",
        "# column_transformer = ColumnTransformer([\n",
        "#     ('ohe', OneHotEncoder(handle_unknown=\"ignore\"), categorical),\n",
        "#     ('scaling', StandardScaler(), numeric_features)\n",
        "# ])\n",
        "\n",
        "# pipeline = Pipeline(steps=[\n",
        "#     ('ohe_and_scaling', column_transformer),\n",
        "#     ('regression', LinearRegression())\n",
        "# ])"
      ],
      "execution_count": null,
      "outputs": []
    },
    {
      "cell_type": "code",
      "metadata": {
        "id": "mtafdZ0lt7kO"
      },
      "source": [
        "import imblearn\n",
        "from imblearn.over_sampling import SMOTE\n",
        "from imblearn.under_sampling import RandomUnderSampler\n",
        "from imblearn.pipeline import Pipeline as p2\n",
        "from sklearn.tree import DecisionTreeClassifier\n",
        "from sklearn.ensemble import RandomForestClassifier\n",
        "from sklearn.linear_model import LogisticRegression"
      ],
      "execution_count": null,
      "outputs": []
    },
    {
      "cell_type": "code",
      "metadata": {
        "id": "FLPMFTwm3k2K",
        "outputId": "89ae78ac-6a2a-4309-d429-c8b8c7ec278c",
        "colab": {
          "base_uri": "https://localhost:8080/",
          "height": 35
        }
      },
      "source": [
        "# from google.colab import drive \n",
        "# drive.mount('/content/gdrive')\n",
        "# data1 = pd.read_csv('/content/gdrive/My Drive/Retail_Data_Response.csv')\n",
        "# data2 = pd.read_csv('/content/gdrive/My Drive/Retail_Data_Transactions.csv')\n",
        "# data = data1.set_index('customer_id').join(data2.set_index('customer_id'), lsuffix='_trgt').reset_index()"
      ],
      "execution_count": null,
      "outputs": [
        {
          "output_type": "stream",
          "text": [
            "Drive already mounted at /content/gdrive; to attempt to forcibly remount, call drive.mount(\"/content/gdrive\", force_remount=True).\n"
          ],
          "name": "stdout"
        }
      ]
    },
    {
      "cell_type": "code",
      "metadata": {
        "id": "rTbNfdmydi2U"
      },
      "source": [
        "from sklearn.datasets import make_classification\n",
        "X, y = sklearn.datasets.make_classification(n_samples=20000, n_classes=2, n_features=20, n_informative=10)\n",
        "X = pd.DataFrame(X, columns=[(str(i) + ' column') for i in range(20)])\n",
        "X['y'] = y"
      ],
      "execution_count": null,
      "outputs": []
    },
    {
      "cell_type": "code",
      "metadata": {
        "id": "NqtZR2Id4zG4"
      },
      "source": [
        "X_train, X_test, y_train, y_test = train_test_split(X, y, test_size=0.3)"
      ],
      "execution_count": null,
      "outputs": []
    },
    {
      "cell_type": "code",
      "metadata": {
        "id": "k4cFzyyxeZoK"
      },
      "source": [
        ""
      ],
      "execution_count": null,
      "outputs": []
    },
    {
      "cell_type": "code",
      "metadata": {
        "id": "P5KWJdzWB_Ap"
      },
      "source": [
        "X_train_unb_sets = dict()\n",
        "for j in range(2, 30, 10):\n",
        "     X_train_unb_sets[j] = X_train[((X_train.index % j != 0) & (X_train.y == 0)) | ((X_train.index % j == 0) & (X_train.y == 1))]"
      ],
      "execution_count": null,
      "outputs": []
    },
    {
      "cell_type": "code",
      "metadata": {
        "id": "_OvV0kAwhBE8",
        "outputId": "2c5a9ead-686a-43f3-ab8b-92f7c3b401af",
        "colab": {
          "base_uri": "https://localhost:8080/",
          "height": 953
        }
      },
      "source": [
        "from sklearn.model_selection import GridSearchCV\n",
        "print('Explore decision tree classifier')\n",
        "for i in range(2, 30, 10):\n",
        "    print('-' * 40)\n",
        "    print(i-1, 'to 1 balancing')\n",
        "    X = X_train_unb_sets[i].drop(['y'], axis=1)\n",
        "    y = X_train_unb_sets[i].y\n",
        "    print('  ' * 3, '\\nwithout changing')\n",
        "    parameters = {'max_depth':range(3,20)}\n",
        "    clf = GridSearchCV(DecisionTreeClassifier(), parameters, n_jobs=4)\n",
        "    clf.fit(X=X, y=y)\n",
        "    model = clf.best_estimator_\n",
        "    print('recall = ', sklearn.metrics.recall_score(y_test, model.predict(X_test.drop(['y'], axis=1))))\n",
        "    print('roc_auc = ', sklearn.metrics.roc_auc_score(y_test, model.predict(X_test.drop(['y'], axis=1))))\n",
        "    print('accuracy = ', sklearn.metrics.accuracy_score(y_test, model.predict(X_test.drop(['y'], axis=1))))\n",
        "    # print (' ', clf.best_score_)\n",
        "    print(' \\nwith smote:')\n",
        "    oversample = SMOTE()\n",
        "    X, y = oversample.fit_resample(X, y)\n",
        "    parameters = {'max_depth':range(3,20)}\n",
        "    clf = GridSearchCV(DecisionTreeClassifier(), parameters, n_jobs=4)\n",
        "    clf.fit(X=X, y=y)\n",
        "    model = clf.best_estimator_\n",
        "    print('recall = ', sklearn.metrics.recall_score(y_test, model.predict(X_test.drop(['y'], axis=1))))\n",
        "    print('roc_auc = ', sklearn.metrics.roc_auc_score(y_test, model.predict(X_test.drop(['y'], axis=1))))\n",
        "    print('accuracy = ', sklearn.metrics.accuracy_score(y_test, model.predict(X_test.drop(['y'], axis=1))))\n",
        "    # print (' ', clf.best_score_)\n",
        "    print('\\nwith under_sampling:')\n",
        "    oversample = RandomUnderSampler()\n",
        "    X, y = oversample.fit_sample(X, y)\n",
        "    parameters = {'max_depth':range(3,20)}\n",
        "    clf = GridSearchCV(DecisionTreeClassifier(), parameters, n_jobs=4)\n",
        "    clf.fit(X=X, y=y)\n",
        "    model = clf.best_estimator_\n",
        "    print('recall = ', sklearn.metrics.recall_score(y_test, model.predict(X_test.drop(['y'], axis=1))))\n",
        "    print('roc_auc = ', sklearn.metrics.roc_auc_score(y_test, model.predict(X_test.drop(['y'], axis=1))))\n",
        "    print('accuracy = ', sklearn.metrics.accuracy_score(y_test, model.predict(X_test.drop(['y'], axis=1))))\n",
        "plt.show()"
      ],
      "execution_count": null,
      "outputs": [
        {
          "output_type": "stream",
          "text": [
            "Explore decision tree classifier\n",
            "----------------------------------------\n",
            "1 to 1 balancing\n",
            "       \n",
            "without changing\n",
            "recall =  0.8627844712182061\n",
            "roc_auc =  0.8804294202040566\n",
            "accuracy =  0.8805\n",
            " \n",
            "with smote:\n",
            "recall =  0.8657965194109772\n",
            "roc_auc =  0.8752953380587423\n",
            "accuracy =  0.8753333333333333\n",
            "\n",
            "with under_sampling:\n",
            "recall =  0.8701472556894244\n",
            "roc_auc =  0.8794627380704759\n",
            "accuracy =  0.8795\n",
            "----------------------------------------\n",
            "11 to 1 balancing\n",
            "       \n",
            "without changing\n",
            "recall =  0.5552208835341366\n",
            "roc_auc =  0.7696423142770284\n",
            "accuracy =  0.7705\n",
            " \n",
            "with smote:\n",
            "recall =  0.7312583668005355\n",
            "roc_auc =  0.8413927956180632\n",
            "accuracy =  0.8418333333333333\n",
            "\n",
            "with under_sampling:\n",
            "recall =  0.7248995983935743\n",
            "roc_auc =  0.8358893742299878\n",
            "accuracy =  0.8363333333333334\n",
            "----------------------------------------\n",
            "21 to 1 balancing\n",
            "       \n",
            "without changing\n",
            "recall =  0.3852074966532798\n",
            "roc_auc =  0.6874576659893225\n",
            "accuracy =  0.6886666666666666\n",
            " \n",
            "with smote:\n",
            "recall =  0.6810575635876841\n",
            "roc_auc =  0.8138023541710001\n",
            "accuracy =  0.8143333333333334\n",
            "\n",
            "with under_sampling:\n",
            "recall =  0.6716867469879518\n",
            "roc_auc =  0.8126030016480265\n",
            "accuracy =  0.8131666666666667\n"
          ],
          "name": "stdout"
        }
      ]
    },
    {
      "cell_type": "code",
      "metadata": {
        "id": "WWGGNSPZl30N",
        "outputId": "6cafe94e-885a-4ea3-969c-7ecb49f8445c",
        "colab": {
          "base_uri": "https://localhost:8080/",
          "height": 953
        }
      },
      "source": [
        "from sklearn.model_selection import GridSearchCV\n",
        "print('Explore logistic regression')\n",
        "for i in range(2, 30, 10):\n",
        "    print('-' * 40)\n",
        "    print(i-1, 'to 1 balancing')\n",
        "    X = X_train_unb_sets[i].drop(['y'], axis=1)\n",
        "    y = X_train_unb_sets[i].y\n",
        "    print('  ' * 3, '\\nwithout changing')\n",
        "    tuned_parameters = {'C': [0.1, 0.5, 1, 5, 10, 50, 100]}\n",
        "    clf = GridSearchCV(LogisticRegression(solver='liblinear'), tuned_parameters, cv=3, scoring=\"accuracy\")\n",
        "    clf.fit(X=X, y=y)\n",
        "    model = clf.best_estimator_\n",
        "    print('recall = ', sklearn.metrics.recall_score(y_test, model.predict(X_test.drop(['y'], axis=1))))\n",
        "    print('roc_auc = ', sklearn.metrics.roc_auc_score(y_test, model.predict(X_test.drop(['y'], axis=1))))\n",
        "    print('accuracy = ', sklearn.metrics.accuracy_score(y_test, model.predict(X_test.drop(['y'], axis=1))))\n",
        "    # print (' ', clf.best_score_)\n",
        "    print(' \\nwith smote:')\n",
        "    oversample = SMOTE()\n",
        "    X, y = oversample.fit_resample(X, y)\n",
        "    tuned_parameters = {'C': [0.1, 0.5, 1, 5, 10, 50, 100]}\n",
        "    clf = GridSearchCV(LogisticRegression(solver='liblinear'), tuned_parameters, cv=3, scoring=\"accuracy\")\n",
        "    clf.fit(X=X, y=y)\n",
        "    model = clf.best_estimator_\n",
        "    print('recall = ', sklearn.metrics.recall_score(y_test, model.predict(X_test.drop(['y'], axis=1))))\n",
        "    print('roc_auc = ', sklearn.metrics.roc_auc_score(y_test, model.predict(X_test.drop(['y'], axis=1))))\n",
        "    print('accuracy = ', sklearn.metrics.accuracy_score(y_test, model.predict(X_test.drop(['y'], axis=1))))\n",
        "    # print (' ', clf.best_score_)\n",
        "    print('\\nwith under_sampling:')\n",
        "    oversample = RandomUnderSampler()\n",
        "    X, y = oversample.fit_sample(X, y)\n",
        "    tuned_parameters = {'C': [0.1, 0.5, 1, 5, 10, 50, 100]}\n",
        "    clf = GridSearchCV(LogisticRegression(solver='liblinear'), tuned_parameters, cv=3, scoring=\"accuracy\")\n",
        "    clf.fit(X=X, y=y)\n",
        "    model = clf.best_estimator_\n",
        "    print('recall = ', sklearn.metrics.recall_score(y_test, model.predict(X_test.drop(['y'], axis=1))))\n",
        "    print('roc_auc = ', sklearn.metrics.roc_auc_score(y_test, model.predict(X_test.drop(['y'], axis=1))))\n",
        "    print('accuracy = ', sklearn.metrics.accuracy_score(y_test, model.predict(X_test.drop(['y'], axis=1))))\n",
        "plt.show()"
      ],
      "execution_count": null,
      "outputs": [
        {
          "output_type": "stream",
          "text": [
            "Explore logistic regression\n",
            "----------------------------------------\n",
            "1 to 1 balancing\n",
            "       \n",
            "without changing\n",
            "recall =  0.7874832663989291\n",
            "roc_auc =  0.8124003317386412\n",
            "accuracy =  0.8125\n",
            " \n",
            "with smote:\n",
            "recall =  0.7841365461847389\n",
            "roc_auc =  0.8115569849117586\n",
            "accuracy =  0.8116666666666666\n",
            "\n",
            "with under_sampling:\n",
            "recall =  0.7841365461847389\n",
            "roc_auc =  0.8115569849117586\n",
            "accuracy =  0.8116666666666666\n",
            "----------------------------------------\n",
            "11 to 1 balancing\n",
            "       \n",
            "without changing\n",
            "recall =  0.4143239625167336\n",
            "roc_auc =  0.7031779175133469\n",
            "accuracy =  0.7043333333333334\n",
            " \n",
            "with smote:\n",
            "recall =  0.7603748326639893\n",
            "roc_auc =  0.8084742689216361\n",
            "accuracy =  0.8086666666666666\n",
            "\n",
            "with under_sampling:\n",
            "recall =  0.7600401606425703\n",
            "roc_auc =  0.8084729355669692\n",
            "accuracy =  0.8086666666666666\n",
            "----------------------------------------\n",
            "21 to 1 balancing\n",
            "       \n",
            "without changing\n",
            "recall =  0.3413654618473896\n",
            "roc_auc =  0.6688567017072273\n",
            "accuracy =  0.6701666666666667\n",
            " \n",
            "with smote:\n",
            "recall =  0.7550200803212851\n",
            "roc_auc =  0.8019788316613067\n",
            "accuracy =  0.8021666666666667\n",
            "\n",
            "with under_sampling:\n",
            "recall =  0.7550200803212851\n",
            "roc_auc =  0.8019788316613067\n",
            "accuracy =  0.8021666666666667\n"
          ],
          "name": "stdout"
        }
      ]
    },
    {
      "cell_type": "code",
      "metadata": {
        "id": "sie7iSmOgPj1",
        "outputId": "4b437ef3-30f6-4250-d041-b76642ff120f",
        "colab": {
          "base_uri": "https://localhost:8080/",
          "height": 1000
        }
      },
      "source": [
        "from sklearn.model_selection import KFold\n",
        "\n",
        "print('Explore logistic regression')\n",
        "for i in range(2, 30, 10):\n",
        "    print('-' * 40)\n",
        "    print(i-1, 'to 1 balancing')\n",
        "    X = X_train_unb_sets[i].drop(['y'], axis=1)\n",
        "    y = X_train_unb_sets[i].y\n",
        "    print('  ' * 3, '\\nwithout changing')\n",
        "    grid = {\n",
        "        'C': np.power(10.0, np.arange(-1, 2)),\n",
        "        'kernel': ['rbf', 'linear'],\n",
        "    } \n",
        "    cv = KFold(n_splits=5, shuffle=True, random_state=241)\n",
        "    clf = sklearn.svm.SVC(kernel='linear', random_state=241)\n",
        "    clf = GridSearchCV(clf, grid, scoring='accuracy', cv=cv, \n",
        "                  n_jobs=-1, verbose=1, return_train_score=True)\n",
        "    clf.fit(X=X, y=y)\n",
        "    model = clf.best_estimator_\n",
        "    print('recall = ', sklearn.metrics.recall_score(y_test, model.predict(X_test.drop(['y'], axis=1))))\n",
        "    print('roc_auc = ', sklearn.metrics.roc_auc_score(y_test, model.predict(X_test.drop(['y'], axis=1))))\n",
        "    print('accuracy = ', sklearn.metrics.accuracy_score(y_test, model.predict(X_test.drop(['y'], axis=1))))\n",
        "    # print (' ', clf.best_score_)\n",
        "    print(' \\nwith smote:')\n",
        "    oversample = SMOTE()\n",
        "    X, y = oversample.fit_resample(X, y)\n",
        "    grid = {\n",
        "        'C': np.power(10.0, np.arange(-1, 2)),\n",
        "        'kernel': ['rbf', 'linear'],\n",
        "    } \n",
        "    cv = KFold(n_splits=5, shuffle=True, random_state=241)\n",
        "    clf = sklearn.svm.SVC(kernel='linear', random_state=241)\n",
        "    clf = GridSearchCV(clf, grid, scoring='accuracy', cv=cv, \n",
        "                  n_jobs=-1, verbose=1, return_train_score=True)\n",
        "    clf.fit(X=X, y=y)\n",
        "    model = clf.best_estimator_\n",
        "    print('recall = ', sklearn.metrics.recall_score(y_test, model.predict(X_test.drop(['y'], axis=1))))\n",
        "    print('roc_auc = ', sklearn.metrics.roc_auc_score(y_test, model.predict(X_test.drop(['y'], axis=1))))\n",
        "    print('accuracy = ', sklearn.metrics.accuracy_score(y_test, model.predict(X_test.drop(['y'], axis=1))))\n",
        "    # print (' ', clf.best_score_)\n",
        "    print('\\nwith under_sampling:')\n",
        "    oversample = RandomUnderSampler()\n",
        "    X, y = oversample.fit_sample(X, y)\n",
        "    grid = {\n",
        "        'C': np.power(10.0, np.arange(-1, 2)),\n",
        "        'kernel': ['rbf', 'linear'],\n",
        "    } \n",
        "    cv = KFold(n_splits=5, shuffle=True, random_state=241)\n",
        "    clf = sklearn.svm.SVC(kernel='linear', random_state=241)\n",
        "    clf = GridSearchCV(clf, grid, scoring='accuracy', cv=cv, \n",
        "                  n_jobs=-1, verbose=1, return_train_score=True)\n",
        "    clf.fit(X=X, y=y)\n",
        "    model = clf.best_estimator_\n",
        "    print('recall = ', sklearn.metrics.recall_score(y_test, model.predict(X_test.drop(['y'], axis=1))))\n",
        "    print('roc_auc = ', sklearn.metrics.roc_auc_score(y_test, model.predict(X_test.drop(['y'], axis=1))))\n",
        "    print('accuracy = ', sklearn.metrics.accuracy_score(y_test, model.predict(X_test.drop(['y'], axis=1))))\n",
        "plt.show()"
      ],
      "execution_count": null,
      "outputs": [
        {
          "output_type": "stream",
          "text": [
            "Explore logistic regression\n",
            "----------------------------------------\n",
            "1 to 1 balancing\n",
            "       \n",
            "without changing\n",
            "Fitting 5 folds for each of 6 candidates, totalling 30 fits\n"
          ],
          "name": "stdout"
        },
        {
          "output_type": "stream",
          "text": [
            "[Parallel(n_jobs=-1)]: Using backend LokyBackend with 2 concurrent workers.\n",
            "[Parallel(n_jobs=-1)]: Done  30 out of  30 | elapsed:  2.1min finished\n"
          ],
          "name": "stderr"
        },
        {
          "output_type": "stream",
          "text": [
            "recall =  0.9461178045515395\n",
            "roc_auc =  0.9639287561934324\n",
            "accuracy =  0.964\n",
            " \n",
            "with smote:\n",
            "Fitting 5 folds for each of 6 candidates, totalling 30 fits\n"
          ],
          "name": "stdout"
        },
        {
          "output_type": "stream",
          "text": [
            "[Parallel(n_jobs=-1)]: Using backend LokyBackend with 2 concurrent workers.\n",
            "[Parallel(n_jobs=-1)]: Done  30 out of  30 | elapsed:  2.1min finished\n"
          ],
          "name": "stderr"
        },
        {
          "output_type": "stream",
          "text": [
            "recall =  0.9467871485943775\n",
            "roc_auc =  0.964429430870894\n",
            "accuracy =  0.9645\n",
            "\n",
            "with under_sampling:\n",
            "Fitting 5 folds for each of 6 candidates, totalling 30 fits\n"
          ],
          "name": "stdout"
        },
        {
          "output_type": "stream",
          "text": [
            "[Parallel(n_jobs=-1)]: Using backend LokyBackend with 2 concurrent workers.\n",
            "[Parallel(n_jobs=-1)]: Done  30 out of  30 | elapsed:  2.1min finished\n"
          ],
          "name": "stderr"
        },
        {
          "output_type": "stream",
          "text": [
            "recall =  0.9467871485943775\n",
            "roc_auc =  0.964429430870894\n",
            "accuracy =  0.9645\n",
            "----------------------------------------\n",
            "11 to 1 balancing\n",
            "       \n",
            "without changing\n",
            "Fitting 5 folds for each of 6 candidates, totalling 30 fits\n"
          ],
          "name": "stdout"
        },
        {
          "output_type": "stream",
          "text": [
            "[Parallel(n_jobs=-1)]: Using backend LokyBackend with 2 concurrent workers.\n",
            "[Parallel(n_jobs=-1)]: Done  30 out of  30 | elapsed:   43.9s finished\n"
          ],
          "name": "stderr"
        },
        {
          "output_type": "stream",
          "text": [
            "recall =  0.8437081659973227\n",
            "roc_auc =  0.9193640431580239\n",
            "accuracy =  0.9196666666666666\n",
            " \n",
            "with smote:\n",
            "Fitting 5 folds for each of 6 candidates, totalling 30 fits\n"
          ],
          "name": "stdout"
        },
        {
          "output_type": "stream",
          "text": [
            "[Parallel(n_jobs=-1)]: Using backend LokyBackend with 2 concurrent workers.\n",
            "[Parallel(n_jobs=-1)]: Done  30 out of  30 | elapsed:  5.7min finished\n"
          ],
          "name": "stderr"
        },
        {
          "output_type": "stream",
          "text": [
            "recall =  0.8410307898259706\n",
            "roc_auc =  0.9158673205437954\n",
            "accuracy =  0.9161666666666667\n",
            "\n",
            "with under_sampling:\n",
            "Fitting 5 folds for each of 6 candidates, totalling 30 fits\n"
          ],
          "name": "stdout"
        },
        {
          "output_type": "stream",
          "text": [
            "[Parallel(n_jobs=-1)]: Using backend LokyBackend with 2 concurrent workers.\n",
            "[Parallel(n_jobs=-1)]: Done  30 out of  30 | elapsed:  5.7min finished\n"
          ],
          "name": "stderr"
        },
        {
          "output_type": "stream",
          "text": [
            "recall =  0.8410307898259706\n",
            "roc_auc =  0.9158673205437954\n",
            "accuracy =  0.9161666666666667\n",
            "----------------------------------------\n",
            "21 to 1 balancing\n",
            "       \n",
            "without changing\n",
            "Fitting 5 folds for each of 6 candidates, totalling 30 fits\n"
          ],
          "name": "stdout"
        },
        {
          "output_type": "stream",
          "text": [
            "[Parallel(n_jobs=-1)]: Using backend LokyBackend with 2 concurrent workers.\n",
            "[Parallel(n_jobs=-1)]: Done  30 out of  30 | elapsed:   34.1s finished\n"
          ],
          "name": "stderr"
        },
        {
          "output_type": "stream",
          "text": [
            "recall =  0.7988621151271754\n",
            "roc_auc =  0.8972730230350353\n",
            "accuracy =  0.8976666666666666\n",
            " \n",
            "with smote:\n",
            "Fitting 5 folds for each of 6 candidates, totalling 30 fits\n"
          ],
          "name": "stdout"
        },
        {
          "output_type": "stream",
          "text": [
            "[Parallel(n_jobs=-1)]: Using backend LokyBackend with 2 concurrent workers.\n",
            "[Parallel(n_jobs=-1)]: Done  30 out of  30 | elapsed:  6.1min finished\n"
          ],
          "name": "stderr"
        },
        {
          "output_type": "stream",
          "text": [
            "recall =  0.7804551539491299\n",
            "roc_auc =  0.88657551854163\n",
            "accuracy =  0.887\n",
            "\n",
            "with under_sampling:\n",
            "Fitting 5 folds for each of 6 candidates, totalling 30 fits\n"
          ],
          "name": "stdout"
        },
        {
          "output_type": "stream",
          "text": [
            "[Parallel(n_jobs=-1)]: Using backend LokyBackend with 2 concurrent workers.\n",
            "[Parallel(n_jobs=-1)]: Done  30 out of  30 | elapsed:  6.2min finished\n"
          ],
          "name": "stderr"
        },
        {
          "output_type": "stream",
          "text": [
            "recall =  0.7801204819277109\n",
            "roc_auc =  0.8864081825309205\n",
            "accuracy =  0.8868333333333334\n"
          ],
          "name": "stdout"
        }
      ]
    }
  ]
}