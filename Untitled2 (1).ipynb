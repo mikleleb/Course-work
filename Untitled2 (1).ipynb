{
  "nbformat": 4,
  "nbformat_minor": 0,
  "metadata": {
    "colab": {
      "name": "Untitled2.ipynb",
      "provenance": [],
      "collapsed_sections": []
    },
    "kernelspec": {
      "name": "python3",
      "display_name": "Python 3"
    }
  },
  "cells": [
    {
      "cell_type": "code",
      "metadata": {
        "id": "A0C5j4oi0rZ1",
        "outputId": "8c583cb5-2c2b-4aa1-b676-bdce105be33c",
        "colab": {
          "base_uri": "https://localhost:8080/",
          "height": 35
        }
      },
      "source": [
        "import pandas as pd\n",
        "import numpy as np\n",
        "import matplotlib.pyplot as plt\n",
        "import sklearn\n",
        "import warnings\n",
        "warnings.filterwarnings('ignore')\n",
        "import seaborn as sns\n",
        "\n",
        "%pylab inline"
      ],
      "execution_count": 1,
      "outputs": [
        {
          "output_type": "stream",
          "text": [
            "Populating the interactive namespace from numpy and matplotlib\n"
          ],
          "name": "stdout"
        }
      ]
    },
    {
      "cell_type": "code",
      "metadata": {
        "id": "NYHYgdXi06OR"
      },
      "source": [
        "from sklearn.linear_model import LinearRegression\n",
        "from sklearn.model_selection import train_test_split\n",
        "from sklearn.preprocessing import StandardScaler, OneHotEncoder\n",
        "from sklearn.pipeline import Pipeline\n",
        "from sklearn.compose import ColumnTransformer"
      ],
      "execution_count": 2,
      "outputs": []
    },
    {
      "cell_type": "code",
      "metadata": {
        "id": "cBcakThq1DlZ"
      },
      "source": [
        "from sklearn.metrics import mean_squared_error\n",
        "from sklearn.tree import DecisionTreeClassifier\n",
        "from sklearn.ensemble import RandomForestClassifier\n",
        "from sklearn.metrics import plot_roc_curve, plot_precision_recall_curve\n",
        "\n",
        "# column_transformer = ColumnTransformer([\n",
        "#     ('ohe', OneHotEncoder(handle_unknown=\"ignore\"), categorical),\n",
        "#     ('scaling', StandardScaler(), numeric_features)\n",
        "# ])\n",
        "\n",
        "# pipeline = Pipeline(steps=[\n",
        "#     ('ohe_and_scaling', column_transformer),\n",
        "#     ('regression', LinearRegression())\n",
        "# ])"
      ],
      "execution_count": 32,
      "outputs": []
    },
    {
      "cell_type": "code",
      "metadata": {
        "id": "mtafdZ0lt7kO"
      },
      "source": [
        "import imblearn\n",
        "from imblearn.over_sampling import SMOTE\n",
        "from imblearn.under_sampling import RandomUnderSampler\n",
        "from imblearn.pipeline import Pipeline as p2\n",
        "from sklearn.tree import DecisionTreeClassifier\n",
        "from sklearn.ensemble import RandomForestClassifier\n",
        "from sklearn.linear_model import LogisticRegression"
      ],
      "execution_count": 98,
      "outputs": []
    },
    {
      "cell_type": "code",
      "metadata": {
        "id": "FLPMFTwm3k2K",
        "outputId": "89ae78ac-6a2a-4309-d429-c8b8c7ec278c",
        "colab": {
          "base_uri": "https://localhost:8080/",
          "height": 35
        }
      },
      "source": [
        "# from google.colab import drive \n",
        "# drive.mount('/content/gdrive')\n",
        "# data1 = pd.read_csv('/content/gdrive/My Drive/Retail_Data_Response.csv')\n",
        "# data2 = pd.read_csv('/content/gdrive/My Drive/Retail_Data_Transactions.csv')\n",
        "# data = data1.set_index('customer_id').join(data2.set_index('customer_id'), lsuffix='_trgt').reset_index()"
      ],
      "execution_count": null,
      "outputs": [
        {
          "output_type": "stream",
          "text": [
            "Drive already mounted at /content/gdrive; to attempt to forcibly remount, call drive.mount(\"/content/gdrive\", force_remount=True).\n"
          ],
          "name": "stdout"
        }
      ]
    },
    {
      "cell_type": "code",
      "metadata": {
        "id": "rTbNfdmydi2U"
      },
      "source": [
        "from sklearn.datasets import make_classification\n",
        "X, y = sklearn.datasets.make_classification(n_samples=20000, n_classes=2, n_features=20, n_informative=10)\n",
        "X = pd.DataFrame(X, columns=[(str(i) + ' column') for i in range(20)])\n",
        "X['y'] = y"
      ],
      "execution_count": 112,
      "outputs": []
    },
    {
      "cell_type": "code",
      "metadata": {
        "id": "NqtZR2Id4zG4"
      },
      "source": [
        "X_train, X_test, y_train, y_test = train_test_split(X, y, test_size=0.3)"
      ],
      "execution_count": 113,
      "outputs": []
    },
    {
      "cell_type": "code",
      "metadata": {
        "id": "k4cFzyyxeZoK"
      },
      "source": [
        ""
      ],
      "execution_count": 20,
      "outputs": []
    },
    {
      "cell_type": "code",
      "metadata": {
        "id": "P5KWJdzWB_Ap"
      },
      "source": [
        "X_train_unb_sets = dict()\n",
        "for j in range(2, 30, 10):\n",
        "     X_train_unb_sets[j] = X_train[((X_train.index % j != 0) & (X_train.y == 1)) | ((X_train.index % j == 0) & (X_train.y == 0))]"
      ],
      "execution_count": 115,
      "outputs": []
    },
    {
      "cell_type": "code",
      "metadata": {
        "id": "_OvV0kAwhBE8",
        "outputId": "3f684137-bd90-4a52-b14f-433316b29448",
        "colab": {
          "base_uri": "https://localhost:8080/",
          "height": 953
        }
      },
      "source": [
        "from sklearn.model_selection import GridSearchCV\n",
        "print('Explore decision tree classifier')\n",
        "for i in range(2, 30, 10):\n",
        "    print('-' * 40)\n",
        "    print(i-1, 'to 1 balancing')\n",
        "    X = X_train_unb_sets[i].drop(['y'], axis=1)\n",
        "    y = X_train_unb_sets[i].y\n",
        "    print('  ' * 3, '\\nwithout changing')\n",
        "    parameters = {'max_depth':range(3,20)}\n",
        "    clf = GridSearchCV(DecisionTreeClassifier(), parameters, n_jobs=4)\n",
        "    clf.fit(X=X, y=y)\n",
        "    model = clf.best_estimator_\n",
        "    print('recall = ', sklearn.metrics.recall_score(y_test, model.predict(X_test.drop(['y'], axis=1))))\n",
        "    print('roc_auc = ', sklearn.metrics.roc_auc_score(y_test, model.predict(X_test.drop(['y'], axis=1))))\n",
        "    print('accuracy = ', sklearn.metrics.accuracy_score(y_test, model.predict(X_test.drop(['y'], axis=1))))\n",
        "    # print (' ', clf.best_score_)\n",
        "    print(' \\nwith smote:')\n",
        "    oversample = SMOTE()\n",
        "    X, y = oversample.fit_resample(X, y)\n",
        "    parameters = {'max_depth':range(3,20)}\n",
        "    clf = GridSearchCV(DecisionTreeClassifier(), parameters, n_jobs=4)\n",
        "    clf.fit(X=X, y=y)\n",
        "    model = clf.best_estimator_\n",
        "    print('recall = ', sklearn.metrics.recall_score(y_test, model.predict(X_test.drop(['y'], axis=1))))\n",
        "    print('roc_auc = ', sklearn.metrics.roc_auc_score(y_test, model.predict(X_test.drop(['y'], axis=1))))\n",
        "    print('accuracy = ', sklearn.metrics.accuracy_score(y_test, model.predict(X_test.drop(['y'], axis=1))))\n",
        "    # print (' ', clf.best_score_)\n",
        "    print('\\nwith under_sampling:')\n",
        "    oversample = RandomUnderSampler()\n",
        "    X, y = oversample.fit_sample(X, y)\n",
        "    parameters = {'max_depth':range(3,20)}\n",
        "    clf = GridSearchCV(DecisionTreeClassifier(), parameters, n_jobs=4)\n",
        "    clf.fit(X=X, y=y)\n",
        "    model = clf.best_estimator_\n",
        "    print('recall = ', sklearn.metrics.recall_score(y_test, model.predict(X_test.drop(['y'], axis=1))))\n",
        "    print('roc_auc = ', sklearn.metrics.roc_auc_score(y_test, model.predict(X_test.drop(['y'], axis=1))))\n",
        "    print('accuracy = ', sklearn.metrics.accuracy_score(y_test, model.predict(X_test.drop(['y'], axis=1))))\n",
        "plt.show()"
      ],
      "execution_count": 116,
      "outputs": [
        {
          "output_type": "stream",
          "text": [
            "Explore decision tree classifier\n",
            "----------------------------------------\n",
            "1 to 1 balancing\n",
            "       \n",
            "without changing\n",
            "recall =  0.8934210526315789\n",
            "roc_auc =  0.8982307965860596\n",
            "accuracy =  0.8981666666666667\n",
            " \n",
            "with smote:\n",
            "recall =  0.8980263157894737\n",
            "roc_auc =  0.9015469416785206\n",
            "accuracy =  0.9015\n",
            "\n",
            "with under_sampling:\n",
            "recall =  0.8927631578947368\n",
            "roc_auc =  0.9004356330014226\n",
            "accuracy =  0.9003333333333333\n",
            "----------------------------------------\n",
            "11 to 1 balancing\n",
            "       \n",
            "without changing\n",
            "recall =  0.9815789473684211\n",
            "roc_auc =  0.7953502844950214\n",
            "accuracy =  0.7978333333333333\n",
            " \n",
            "with smote:\n",
            "recall =  0.9417763157894737\n",
            "roc_auc =  0.8406516714082505\n",
            "accuracy =  0.842\n",
            "\n",
            "with under_sampling:\n",
            "recall =  0.9414473684210526\n",
            "roc_auc =  0.8433588193456614\n",
            "accuracy =  0.8446666666666667\n",
            "----------------------------------------\n",
            "21 to 1 balancing\n",
            "       \n",
            "without changing\n",
            "recall =  0.9881578947368421\n",
            "roc_auc =  0.7099573257467995\n",
            "accuracy =  0.7136666666666667\n",
            " \n",
            "with smote:\n",
            "recall =  0.9523026315789473\n",
            "roc_auc =  0.8406783428165007\n",
            "accuracy =  0.8421666666666666\n",
            "\n",
            "with under_sampling:\n",
            "recall =  0.9523026315789473\n",
            "roc_auc =  0.8408472617354197\n",
            "accuracy =  0.8423333333333334\n"
          ],
          "name": "stdout"
        }
      ]
    },
    {
      "cell_type": "code",
      "metadata": {
        "id": "WWGGNSPZl30N",
        "outputId": "2a32ef5e-5bc9-4b17-9680-57dec3a8be92",
        "colab": {
          "base_uri": "https://localhost:8080/",
          "height": 953
        }
      },
      "source": [
        "from sklearn.model_selection import GridSearchCV\n",
        "print('Explore logistic regression')\n",
        "for i in range(2, 30, 10):\n",
        "    print('-' * 40)\n",
        "    print(i-1, 'to 1 balancing')\n",
        "    X = X_train_unb_sets[i].drop(['y'], axis=1)\n",
        "    y = X_train_unb_sets[i].y\n",
        "    print('  ' * 3, '\\nwithout changing')\n",
        "    tuned_parameters = {'C': [0.1, 0.5, 1, 5, 10, 50, 100]}\n",
        "    clf = GridSearchCV(LogisticRegression(solver='liblinear'), tuned_parameters, cv=3, scoring=\"accuracy\")\n",
        "    clf.fit(X=X, y=y)\n",
        "    model = clf.best_estimator_\n",
        "    print('recall = ', sklearn.metrics.recall_score(y_test, model.predict(X_test.drop(['y'], axis=1))))\n",
        "    print('roc_auc = ', sklearn.metrics.roc_auc_score(y_test, model.predict(X_test.drop(['y'], axis=1))))\n",
        "    print('accuracy = ', sklearn.metrics.accuracy_score(y_test, model.predict(X_test.drop(['y'], axis=1))))\n",
        "    # print (' ', clf.best_score_)\n",
        "    print(' \\nwith smote:')\n",
        "    oversample = SMOTE()\n",
        "    X, y = oversample.fit_resample(X, y)\n",
        "    tuned_parameters = {'C': [0.1, 0.5, 1, 5, 10, 50, 100]}\n",
        "    clf = GridSearchCV(LogisticRegression(solver='liblinear'), tuned_parameters, cv=3, scoring=\"accuracy\")\n",
        "    clf.fit(X=X, y=y)\n",
        "    model = clf.best_estimator_\n",
        "    print('recall = ', sklearn.metrics.recall_score(y_test, model.predict(X_test.drop(['y'], axis=1))))\n",
        "    print('roc_auc = ', sklearn.metrics.roc_auc_score(y_test, model.predict(X_test.drop(['y'], axis=1))))\n",
        "    print('accuracy = ', sklearn.metrics.accuracy_score(y_test, model.predict(X_test.drop(['y'], axis=1))))\n",
        "    # print (' ', clf.best_score_)\n",
        "    print('\\nwith under_sampling:')\n",
        "    oversample = RandomUnderSampler()\n",
        "    X, y = oversample.fit_sample(X, y)\n",
        "    tuned_parameters = {'C': [0.1, 0.5, 1, 5, 10, 50, 100]}\n",
        "    clf = GridSearchCV(LogisticRegression(solver='liblinear'), tuned_parameters, cv=3, scoring=\"accuracy\")\n",
        "    clf.fit(X=X, y=y)\n",
        "    model = clf.best_estimator_\n",
        "    print('recall = ', sklearn.metrics.recall_score(y_test, model.predict(X_test.drop(['y'], axis=1))))\n",
        "    print('roc_auc = ', sklearn.metrics.roc_auc_score(y_test, model.predict(X_test.drop(['y'], axis=1))))\n",
        "    print('accuracy = ', sklearn.metrics.accuracy_score(y_test, model.predict(X_test.drop(['y'], axis=1))))\n",
        "plt.show()"
      ],
      "execution_count": 117,
      "outputs": [
        {
          "output_type": "stream",
          "text": [
            "Explore logistic regression\n",
            "----------------------------------------\n",
            "1 to 1 balancing\n",
            "       \n",
            "without changing\n",
            "recall =  0.8621710526315789\n",
            "roc_auc =  0.855072012802276\n",
            "accuracy =  0.8551666666666666\n",
            " \n",
            "with smote:\n",
            "recall =  0.8621710526315789\n",
            "roc_auc =  0.8554098506401138\n",
            "accuracy =  0.8555\n",
            "\n",
            "with under_sampling:\n",
            "recall =  0.8628289473684211\n",
            "roc_auc =  0.8552320412517781\n",
            "accuracy =  0.8553333333333333\n",
            "----------------------------------------\n",
            "11 to 1 balancing\n",
            "       \n",
            "without changing\n",
            "recall =  0.9858552631578947\n",
            "roc_auc =  0.7419141180654338\n",
            "accuracy =  0.7451666666666666\n",
            " \n",
            "with smote:\n",
            "recall =  0.8654605263157895\n",
            "roc_auc =  0.8536762091038407\n",
            "accuracy =  0.8538333333333333\n",
            "\n",
            "with under_sampling:\n",
            "recall =  0.8664473684210526\n",
            "roc_auc =  0.8536628733997156\n",
            "accuracy =  0.8538333333333333\n",
            "----------------------------------------\n",
            "21 to 1 balancing\n",
            "       \n",
            "without changing\n",
            "recall =  0.9921052631578947\n",
            "roc_auc =  0.6958837126600284\n",
            "accuracy =  0.6998333333333333\n",
            " \n",
            "with smote:\n",
            "recall =  0.8618421052631579\n",
            "roc_auc =  0.853894025604552\n",
            "accuracy =  0.854\n",
            "\n",
            "with under_sampling:\n",
            "recall =  0.8618421052631579\n",
            "roc_auc =  0.8540629445234709\n",
            "accuracy =  0.8541666666666666\n"
          ],
          "name": "stdout"
        }
      ]
    },
    {
      "cell_type": "code",
      "metadata": {
        "id": "sie7iSmOgPj1",
        "outputId": "46a80e38-a80e-47cb-fbbc-0309932f19d3",
        "colab": {
          "base_uri": "https://localhost:8080/",
          "height": 1000
        }
      },
      "source": [
        "from sklearn.model_selection import KFold\n",
        "\n",
        "print('Explore logistic regression')\n",
        "for i in range(2, 30, 10):\n",
        "    print('-' * 40)\n",
        "    print(i-1, 'to 1 balancing')\n",
        "    X = X_train_unb_sets[i].drop(['y'], axis=1)\n",
        "    y = X_train_unb_sets[i].y\n",
        "    print('  ' * 3, '\\nwithout changing')\n",
        "    grid = {\n",
        "        'C': np.power(10.0, np.arange(-1, 2)),\n",
        "        'kernel': ['rbf', 'linear'],\n",
        "    } \n",
        "    cv = KFold(n_splits=5, shuffle=True, random_state=241)\n",
        "    clf = sklearn.svm.SVC(kernel='linear', random_state=241)\n",
        "    clf = GridSearchCV(clf, grid, scoring='accuracy', cv=cv, \n",
        "                  n_jobs=-1, verbose=1, return_train_score=True)\n",
        "    clf.fit(X=X, y=y)\n",
        "    model = clf.best_estimator_\n",
        "    print('recall = ', sklearn.metrics.recall_score(y_test, model.predict(X_test.drop(['y'], axis=1))))\n",
        "    print('roc_auc = ', sklearn.metrics.roc_auc_score(y_test, model.predict(X_test.drop(['y'], axis=1))))\n",
        "    print('accuracy = ', sklearn.metrics.accuracy_score(y_test, model.predict(X_test.drop(['y'], axis=1))))\n",
        "    # print (' ', clf.best_score_)\n",
        "    print(' \\nwith smote:')\n",
        "    oversample = SMOTE()\n",
        "    X, y = oversample.fit_resample(X, y)\n",
        "    grid = {\n",
        "        'C': np.power(10.0, np.arange(-1, 2)),\n",
        "        'kernel': ['rbf', 'linear'],\n",
        "    } \n",
        "    cv = KFold(n_splits=5, shuffle=True, random_state=241)\n",
        "    clf = sklearn.svm.SVC(kernel='linear', random_state=241)\n",
        "    clf = GridSearchCV(clf, grid, scoring='accuracy', cv=cv, \n",
        "                  n_jobs=-1, verbose=1, return_train_score=True)\n",
        "    clf.fit(X=X, y=y)\n",
        "    model = clf.best_estimator_\n",
        "    print('recall = ', sklearn.metrics.recall_score(y_test, model.predict(X_test.drop(['y'], axis=1))))\n",
        "    print('roc_auc = ', sklearn.metrics.roc_auc_score(y_test, model.predict(X_test.drop(['y'], axis=1))))\n",
        "    print('accuracy = ', sklearn.metrics.accuracy_score(y_test, model.predict(X_test.drop(['y'], axis=1))))\n",
        "    # print (' ', clf.best_score_)\n",
        "    print('\\nwith under_sampling:')\n",
        "    oversample = RandomUnderSampler()\n",
        "    X, y = oversample.fit_sample(X, y)\n",
        "    grid = {\n",
        "        'C': np.power(10.0, np.arange(-1, 2)),\n",
        "        'kernel': ['rbf', 'linear'],\n",
        "    } \n",
        "    cv = KFold(n_splits=5, shuffle=True, random_state=241)\n",
        "    clf = sklearn.svm.SVC(kernel='linear', random_state=241)\n",
        "    clf = GridSearchCV(clf, grid, scoring='accuracy', cv=cv, \n",
        "                  n_jobs=-1, verbose=1, return_train_score=True)\n",
        "    clf.fit(X=X, y=y)\n",
        "    model = clf.best_estimator_\n",
        "    print('recall = ', sklearn.metrics.recall_score(y_test, model.predict(X_test.drop(['y'], axis=1))))\n",
        "    print('roc_auc = ', sklearn.metrics.roc_auc_score(y_test, model.predict(X_test.drop(['y'], axis=1))))\n",
        "    print('accuracy = ', sklearn.metrics.accuracy_score(y_test, model.predict(X_test.drop(['y'], axis=1))))\n",
        "plt.show()"
      ],
      "execution_count": 120,
      "outputs": [
        {
          "output_type": "stream",
          "text": [
            "Explore logistic regression\n",
            "----------------------------------------\n",
            "1 to 1 balancing\n",
            "       \n",
            "without changing\n",
            "Fitting 5 folds for each of 6 candidates, totalling 30 fits\n"
          ],
          "name": "stdout"
        },
        {
          "output_type": "stream",
          "text": [
            "[Parallel(n_jobs=-1)]: Using backend LokyBackend with 2 concurrent workers.\n",
            "[Parallel(n_jobs=-1)]: Done  30 out of  30 | elapsed:  1.9min finished\n"
          ],
          "name": "stderr"
        },
        {
          "output_type": "stream",
          "text": [
            "recall =  0.9694078947368421\n",
            "roc_auc =  0.9693323257467994\n",
            "accuracy =  0.9693333333333334\n",
            " \n",
            "with smote:\n",
            "Fitting 5 folds for each of 6 candidates, totalling 30 fits\n"
          ],
          "name": "stdout"
        },
        {
          "output_type": "stream",
          "text": [
            "[Parallel(n_jobs=-1)]: Using backend LokyBackend with 2 concurrent workers.\n",
            "[Parallel(n_jobs=-1)]: Done  30 out of  30 | elapsed:  1.9min finished\n"
          ],
          "name": "stderr"
        },
        {
          "output_type": "stream",
          "text": [
            "recall =  0.969078947368421\n",
            "roc_auc =  0.9691678520625889\n",
            "accuracy =  0.9691666666666666\n",
            "\n",
            "with under_sampling:\n",
            "Fitting 5 folds for each of 6 candidates, totalling 30 fits\n"
          ],
          "name": "stdout"
        },
        {
          "output_type": "stream",
          "text": [
            "[Parallel(n_jobs=-1)]: Using backend LokyBackend with 2 concurrent workers.\n",
            "[Parallel(n_jobs=-1)]: Done  30 out of  30 | elapsed:  1.9min finished\n"
          ],
          "name": "stderr"
        },
        {
          "output_type": "stream",
          "text": [
            "recall =  0.969078947368421\n",
            "roc_auc =  0.9691678520625889\n",
            "accuracy =  0.9691666666666666\n",
            "----------------------------------------\n",
            "11 to 1 balancing\n",
            "       \n",
            "without changing\n",
            "Fitting 5 folds for each of 6 candidates, totalling 30 fits\n"
          ],
          "name": "stdout"
        },
        {
          "output_type": "stream",
          "text": [
            "[Parallel(n_jobs=-1)]: Using backend LokyBackend with 2 concurrent workers.\n",
            "[Parallel(n_jobs=-1)]: Done  30 out of  30 | elapsed:   39.2s finished\n"
          ],
          "name": "stderr"
        },
        {
          "output_type": "stream",
          "text": [
            "recall =  0.9917763157894737\n",
            "roc_auc =  0.9021381578947368\n",
            "accuracy =  0.9033333333333333\n",
            " \n",
            "with smote:\n",
            "Fitting 5 folds for each of 6 candidates, totalling 30 fits\n"
          ],
          "name": "stdout"
        },
        {
          "output_type": "stream",
          "text": [
            "[Parallel(n_jobs=-1)]: Using backend LokyBackend with 2 concurrent workers.\n",
            "[Parallel(n_jobs=-1)]: Done  30 out of  30 | elapsed:  5.3min finished\n"
          ],
          "name": "stderr"
        },
        {
          "output_type": "stream",
          "text": [
            "recall =  0.9825657894736842\n",
            "roc_auc =  0.9281072190611664\n",
            "accuracy =  0.9288333333333333\n",
            "\n",
            "with under_sampling:\n",
            "Fitting 5 folds for each of 6 candidates, totalling 30 fits\n"
          ],
          "name": "stdout"
        },
        {
          "output_type": "stream",
          "text": [
            "[Parallel(n_jobs=-1)]: Using backend LokyBackend with 2 concurrent workers.\n",
            "[Parallel(n_jobs=-1)]: Done  30 out of  30 | elapsed:  5.4min finished\n"
          ],
          "name": "stderr"
        },
        {
          "output_type": "stream",
          "text": [
            "recall =  0.9825657894736842\n",
            "roc_auc =  0.9279383001422475\n",
            "accuracy =  0.9286666666666666\n",
            "----------------------------------------\n",
            "21 to 1 balancing\n",
            "       \n",
            "without changing\n",
            "Fitting 5 folds for each of 6 candidates, totalling 30 fits\n"
          ],
          "name": "stdout"
        },
        {
          "output_type": "stream",
          "text": [
            "[Parallel(n_jobs=-1)]: Using backend LokyBackend with 2 concurrent workers.\n",
            "[Parallel(n_jobs=-1)]: Done  30 out of  30 | elapsed:   27.8s finished\n"
          ],
          "name": "stderr"
        },
        {
          "output_type": "stream",
          "text": [
            "recall =  0.9921052631578947\n",
            "roc_auc =  0.8899715504978664\n",
            "accuracy =  0.8913333333333333\n",
            " \n",
            "with smote:\n",
            "Fitting 5 folds for each of 6 candidates, totalling 30 fits\n"
          ],
          "name": "stdout"
        },
        {
          "output_type": "stream",
          "text": [
            "[Parallel(n_jobs=-1)]: Using backend LokyBackend with 2 concurrent workers.\n",
            "[Parallel(n_jobs=-1)]: Done  30 out of  30 | elapsed:  6.3min finished\n"
          ],
          "name": "stderr"
        },
        {
          "output_type": "stream",
          "text": [
            "recall =  0.9838815789473684\n",
            "roc_auc =  0.8910961948790896\n",
            "accuracy =  0.8923333333333333\n",
            "\n",
            "with under_sampling:\n",
            "Fitting 5 folds for each of 6 candidates, totalling 30 fits\n"
          ],
          "name": "stdout"
        },
        {
          "output_type": "stream",
          "text": [
            "[Parallel(n_jobs=-1)]: Using backend LokyBackend with 2 concurrent workers.\n",
            "[Parallel(n_jobs=-1)]: Done  30 out of  30 | elapsed:  6.3min finished\n"
          ],
          "name": "stderr"
        },
        {
          "output_type": "stream",
          "text": [
            "recall =  0.9838815789473684\n",
            "roc_auc =  0.8910961948790896\n",
            "accuracy =  0.8923333333333333\n"
          ],
          "name": "stdout"
        }
      ]
    }
  ]
}